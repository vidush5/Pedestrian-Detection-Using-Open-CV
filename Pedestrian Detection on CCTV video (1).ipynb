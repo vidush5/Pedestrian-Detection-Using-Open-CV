{
 "cells": [
  {
   "cell_type": "markdown",
   "metadata": {},
   "source": [
    "# Pedestrian Detection on CCTV Video"
   ]
  },
  {
   "cell_type": "code",
   "execution_count": 6,
   "metadata": {},
   "outputs": [],
   "source": [
    "# Importing Packages\n",
    "import cv2\n",
    "import numpy as np\n",
    "import time "
   ]
  },
  {
   "cell_type": "code",
   "execution_count": 7,
   "metadata": {},
   "outputs": [],
   "source": [
    "# Give the path to the cascade fullbody\n",
    "Pedestrian_detection = cv2.CascadeClassifier('C:/Users/Vidush/Desktop/Image processing/haarcascade_fullbody.xml')"
   ]
  },
  {
   "cell_type": "code",
   "execution_count": 8,
   "metadata": {},
   "outputs": [],
   "source": [
    "# Reading CCTV Video\n",
    "CCTV_Video = cv2.VideoCapture('C:/Users/Vidush/Desktop/Image processing/walking.avi')"
   ]
  },
  {
   "cell_type": "code",
   "execution_count": null,
   "metadata": {},
   "outputs": [],
   "source": [
    "# If videocapture is successfully opened we will be continue with following function\n",
    "\n",
    "# IF it's True\n",
    "while CCTV_Video.isOpened(): \n",
    "    \n",
    "    # secs i defined to pause execution\n",
    "    time.sleep(.05)  \n",
    "\n",
    "    # Start capturing frames\n",
    "    ret, frame = CCTV_Video.read()\n",
    "    \n",
    "    # We have to resize the captured frame using cv2.resize built-in function\n",
    "    # cv2.resize(capturing, output image size, x scale, y scale, interpolation)\n",
    "    frame = cv2.resize(frame, None,fx=0.5, fy=0.5, interpolation = cv2.INTER_LINEAR)\n",
    "\n",
    "    # Convert RGB to gray using cv2.COLOR_BGR2GRAY built-in function\n",
    "    # BGR (bytes are reversed)\n",
    "    # cv2.cvtColor: Converts image from one color space to another\n",
    "    gray = cv2.cvtColor(frame, cv2.COLOR_BGR2GRAY)\n",
    "    \n",
    "    # Detect pedestrians of different sizes using cv2.CascadeClassifier.detectMultiScale\n",
    "    # cv2.CascadeClassifier.detectMultiScale(gray, scaleFactor, minNeighbors)\n",
    "   \n",
    "    # scaleFactor: Specifies the image size to be reduced\n",
    "    # Pedestrians closer to the camera appear bigger than those pedestrians in the back.\n",
    "    \n",
    "    # minNeighbors: Specifies the number of neighbors each rectangle should have to retain it\n",
    "    # Higher value results in less detections but with higher quality\n",
    "    \n",
    "    pedestrian_detected = Pedestrian_detection.detectMultiScale(gray, 1.2, 3)\n",
    "    \n",
    "    # Drawing box when bodies identified\n",
    "    # Rectangles are drawn around the cars using cv2.rectangle built-in function\n",
    "    # cv2.rectangle(frame, (x1,y1), (x2,y2), color, thickness)\n",
    "    for (x,y,w,h) in pedestrian_detected:\n",
    "        cv2.rectangle(frame, (x, y), (x+w, y+h), (0, 0, 255), 3)\n",
    "        \n",
    "        # Display pedestrians detected using imshow built-in function\n",
    "        cv2.imshow('Pedestrian Detection', frame)\n",
    "\n",
    "    # Check if the user has pressed Esc key\n",
    "    c = cv2.waitKey(1)\n",
    "    if c == 27:\n",
    "        break\n",
    "\n",
    "# Close the capturing device\n",
    "capture.release()\n",
    "\n",
    "# Close all windows\n",
    "cv2.destroyAllWindows()"
   ]
  },
  {
   "cell_type": "code",
   "execution_count": null,
   "metadata": {},
   "outputs": [],
   "source": []
  }
 ],
 "metadata": {
  "kernelspec": {
   "display_name": "Python 3",
   "language": "python",
   "name": "python3"
  },
  "language_info": {
   "codemirror_mode": {
    "name": "ipython",
    "version": 3
   },
   "file_extension": ".py",
   "mimetype": "text/x-python",
   "name": "python",
   "nbconvert_exporter": "python",
   "pygments_lexer": "ipython3",
   "version": "3.7.3"
  }
 },
 "nbformat": 4,
 "nbformat_minor": 2
}
